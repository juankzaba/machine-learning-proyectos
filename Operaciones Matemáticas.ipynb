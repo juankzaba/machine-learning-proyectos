{
 "cells": [
  {
   "cell_type": "code",
   "execution_count": 1,
   "id": "7fce2660-ea7a-42fa-8b6d-4a7812c8e146",
   "metadata": {},
   "outputs": [
    {
     "data": {
      "text/plain": [
       "4"
      ]
     },
     "execution_count": 1,
     "metadata": {},
     "output_type": "execute_result"
    }
   ],
   "source": [
    "2 + 2"
   ]
  },
  {
   "cell_type": "code",
   "execution_count": 2,
   "id": "a51b282b-178d-43db-bf36-c44ed4d425d7",
   "metadata": {},
   "outputs": [
    {
     "data": {
      "text/plain": [
       "7.0"
      ]
     },
     "execution_count": 2,
     "metadata": {},
     "output_type": "execute_result"
    }
   ],
   "source": [
    "8.5 -1.5"
   ]
  },
  {
   "cell_type": "code",
   "execution_count": 3,
   "id": "66b25831-eed6-426f-991f-9a3d4d4cc3dc",
   "metadata": {},
   "outputs": [
    {
     "data": {
      "text/plain": [
       "7.0"
      ]
     },
     "execution_count": 3,
     "metadata": {},
     "output_type": "execute_result"
    }
   ],
   "source": [
    "2 * 3.5"
   ]
  },
  {
   "cell_type": "code",
   "execution_count": 4,
   "id": "2657f3de-9831-44de-8e64-d82ecf8c4c2f",
   "metadata": {},
   "outputs": [
    {
     "data": {
      "text/plain": [
       "3.3333333333333335"
      ]
     },
     "execution_count": 4,
     "metadata": {},
     "output_type": "execute_result"
    }
   ],
   "source": [
    "10 / 3"
   ]
  },
  {
   "cell_type": "code",
   "execution_count": 5,
   "id": "31569b50-7cf0-4a73-b049-89fb1af315af",
   "metadata": {},
   "outputs": [
    {
     "data": {
      "text/plain": [
       "3"
      ]
     },
     "execution_count": 5,
     "metadata": {},
     "output_type": "execute_result"
    }
   ],
   "source": [
    "10 // 3\n"
   ]
  },
  {
   "cell_type": "code",
   "execution_count": 6,
   "id": "4da4ab9b-31a6-44ae-a770-315caf4dc7e0",
   "metadata": {},
   "outputs": [
    {
     "data": {
      "text/plain": [
       "1"
      ]
     },
     "execution_count": 6,
     "metadata": {},
     "output_type": "execute_result"
    }
   ],
   "source": [
    "10 % 3"
   ]
  },
  {
   "cell_type": "code",
   "execution_count": 7,
   "id": "3ed5b95c-f248-4198-b636-a71311c63217",
   "metadata": {},
   "outputs": [],
   "source": [
    "a = 3 + 5J\n",
    "b = 2 + 2J"
   ]
  },
  {
   "cell_type": "code",
   "execution_count": 8,
   "id": "ca195ca8-4b94-42a1-8a2f-28268c67238f",
   "metadata": {},
   "outputs": [
    {
     "data": {
      "text/plain": [
       "(5+7j)"
      ]
     },
     "execution_count": 8,
     "metadata": {},
     "output_type": "execute_result"
    }
   ],
   "source": [
    "a + b"
   ]
  },
  {
   "cell_type": "code",
   "execution_count": 9,
   "id": "b778a99c-8281-4954-9524-6d02169f9660",
   "metadata": {},
   "outputs": [],
   "source": [
    "num = \"1\""
   ]
  },
  {
   "cell_type": "code",
   "execution_count": 10,
   "id": "84f6845e-332c-422c-8e7a-2697ccf53585",
   "metadata": {},
   "outputs": [
    {
     "data": {
      "text/plain": [
       "'11'"
      ]
     },
     "execution_count": 10,
     "metadata": {},
     "output_type": "execute_result"
    }
   ],
   "source": [
    "num + num"
   ]
  },
  {
   "cell_type": "code",
   "execution_count": 11,
   "id": "340889bd-e9ae-4250-a2a6-a9815a3eac91",
   "metadata": {},
   "outputs": [
    {
     "data": {
      "text/plain": [
       "'juancarlos'"
      ]
     },
     "execution_count": 11,
     "metadata": {},
     "output_type": "execute_result"
    }
   ],
   "source": [
    "\"juan\"+\"carlos\""
   ]
  },
  {
   "cell_type": "code",
   "execution_count": 12,
   "id": "59277c66-95f9-45a9-a0fe-9858b5098690",
   "metadata": {},
   "outputs": [
    {
     "data": {
      "text/plain": [
       "25"
      ]
     },
     "execution_count": 12,
     "metadata": {},
     "output_type": "execute_result"
    }
   ],
   "source": [
    "5 ** 2"
   ]
  },
  {
   "cell_type": "code",
   "execution_count": 15,
   "id": "aeed38ac-e072-43cb-b695-ced4a9ea54d6",
   "metadata": {},
   "outputs": [
    {
     "data": {
      "text/plain": [
       "5.0"
      ]
     },
     "execution_count": 15,
     "metadata": {},
     "output_type": "execute_result"
    }
   ],
   "source": [
    "25 ** 0.5 # Raiz cuadrada\n"
   ]
  },
  {
   "cell_type": "code",
   "execution_count": 16,
   "id": "87434f0c-2bc8-4734-bea3-4a852c00897c",
   "metadata": {},
   "outputs": [
    {
     "data": {
      "text/plain": [
       "2.924017738212866"
      ]
     },
     "execution_count": 16,
     "metadata": {},
     "output_type": "execute_result"
    }
   ],
   "source": [
    "25 ** (1/3) # Cubo"
   ]
  },
  {
   "cell_type": "markdown",
   "id": "390108a7-4ee1-4f58-9a08-e5d4fd892a5b",
   "metadata": {},
   "source": [
    "# EJERCICIOS"
   ]
  },
  {
   "cell_type": "markdown",
   "id": "94c9ae78-b630-4214-803c-038d29644ced",
   "metadata": {},
   "source": [
    "1. Escribe un programa que tome dos variables a y b cuyo valor sean string que contengan solo caracteres numéricos. Convertirlos a numeros enteros, sumarlos y luego imprimir el resultado."
   ]
  },
  {
   "cell_type": "code",
   "execution_count": 17,
   "id": "26c4bee4-65a0-42be-8eb4-b21c03d911d2",
   "metadata": {},
   "outputs": [],
   "source": [
    "a = \"3\"\n",
    "b = \"4\"\n"
   ]
  },
  {
   "cell_type": "code",
   "execution_count": 18,
   "id": "916219fc-dda8-4e38-aff7-044d0ed8ccc3",
   "metadata": {},
   "outputs": [],
   "source": [
    "a = int(a)\n",
    "b = int(b)"
   ]
  },
  {
   "cell_type": "code",
   "execution_count": 19,
   "id": "5ba991c7-8e69-4d9a-8586-ad232333386e",
   "metadata": {},
   "outputs": [
    {
     "name": "stdout",
     "output_type": "stream",
     "text": [
      "7\n"
     ]
    }
   ],
   "source": [
    "print(a+b)"
   ]
  },
  {
   "cell_type": "markdown",
   "id": "b038be73-d184-4d37-bea4-3b3c1a25a08f",
   "metadata": {},
   "source": [
    "2. Escribe un programa donde declares dos variables a y b y las inicialices con dos valores numéricos respectivamente. Calcular y mostrar el resultado de la división al piso entre a y b."
   ]
  },
  {
   "cell_type": "code",
   "execution_count": 20,
   "id": "1d6bb617-a561-48ca-b0be-ed005a8f36a1",
   "metadata": {},
   "outputs": [],
   "source": [
    "a = 5.2\n",
    "b = 7"
   ]
  },
  {
   "cell_type": "code",
   "execution_count": 21,
   "id": "5acbb27f-d7bf-4970-a9e8-04cfbe6d5c1b",
   "metadata": {},
   "outputs": [
    {
     "name": "stdout",
     "output_type": "stream",
     "text": [
      "0.0\n"
     ]
    }
   ],
   "source": [
    "print (a // b)"
   ]
  },
  {
   "cell_type": "markdown",
   "id": "d2ffdca2-2647-4415-8a47-36469e04dcef",
   "metadata": {},
   "source": [
    "3. Escribe un programa que calcule y muestre la raiz cuadrada de un número entero o flotante que se encuentre guardada en la variable mi_numero. Crear además una variable llamada raiz_cuadrada en la cual se realice el cálculo correspondiente para hallar la raíz cuadrada. Imprimir el resultado."
   ]
  },
  {
   "cell_type": "code",
   "execution_count": 22,
   "id": "b69cc009-976d-4584-89a5-8eb1a2eb154f",
   "metadata": {},
   "outputs": [],
   "source": [
    "mi_numero = 25\n",
    "raiz_cuadrada = mi_numero ** 0.5"
   ]
  },
  {
   "cell_type": "code",
   "execution_count": 23,
   "id": "cf4cec7f-ac80-4c3f-a182-1f8986ae6412",
   "metadata": {},
   "outputs": [
    {
     "name": "stdout",
     "output_type": "stream",
     "text": [
      "5.0\n"
     ]
    }
   ],
   "source": [
    "print(raiz_cuadrada)"
   ]
  },
  {
   "cell_type": "code",
   "execution_count": null,
   "id": "a86b0a23-e5fd-42a0-a0b5-17ea40a6e3c4",
   "metadata": {},
   "outputs": [],
   "source": []
  }
 ],
 "metadata": {
  "kernelspec": {
   "display_name": "Python 3 (ipykernel)",
   "language": "python",
   "name": "python3"
  },
  "language_info": {
   "codemirror_mode": {
    "name": "ipython",
    "version": 3
   },
   "file_extension": ".py",
   "mimetype": "text/x-python",
   "name": "python",
   "nbconvert_exporter": "python",
   "pygments_lexer": "ipython3",
   "version": "3.12.7"
  }
 },
 "nbformat": 4,
 "nbformat_minor": 5
}
