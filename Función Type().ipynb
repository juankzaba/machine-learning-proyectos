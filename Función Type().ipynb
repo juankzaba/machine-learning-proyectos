{
 "cells": [
  {
   "cell_type": "code",
   "execution_count": 1,
   "id": "92746c78-02b2-4b09-9791-b8aa203af28d",
   "metadata": {},
   "outputs": [],
   "source": [
    "a = 1\n",
    "b = \"1\""
   ]
  },
  {
   "cell_type": "code",
   "execution_count": 2,
   "id": "f8998e1a-f8f0-4af7-b19e-0fbdb227c125",
   "metadata": {},
   "outputs": [
    {
     "data": {
      "text/plain": [
       "1"
      ]
     },
     "execution_count": 2,
     "metadata": {},
     "output_type": "execute_result"
    }
   ],
   "source": [
    "a"
   ]
  },
  {
   "cell_type": "code",
   "execution_count": 3,
   "id": "1d42f59e-2f8f-42bc-8405-7c084e8caf7e",
   "metadata": {},
   "outputs": [
    {
     "data": {
      "text/plain": [
       "'1'"
      ]
     },
     "execution_count": 3,
     "metadata": {},
     "output_type": "execute_result"
    }
   ],
   "source": [
    "b"
   ]
  },
  {
   "cell_type": "code",
   "execution_count": 4,
   "id": "e5a23c54-f8ab-437f-ba7b-6bfb3b264586",
   "metadata": {},
   "outputs": [
    {
     "name": "stdout",
     "output_type": "stream",
     "text": [
      "1\n"
     ]
    }
   ],
   "source": [
    "print(b)"
   ]
  },
  {
   "cell_type": "code",
   "execution_count": 5,
   "id": "daf90dd7-3e5d-40d0-9eb7-de6a984e7b85",
   "metadata": {},
   "outputs": [
    {
     "data": {
      "text/plain": [
       "int"
      ]
     },
     "execution_count": 5,
     "metadata": {},
     "output_type": "execute_result"
    }
   ],
   "source": [
    "type(a)"
   ]
  },
  {
   "cell_type": "code",
   "execution_count": 6,
   "id": "7263071f-e769-4808-a136-9dffe8e5b140",
   "metadata": {},
   "outputs": [
    {
     "data": {
      "text/plain": [
       "str"
      ]
     },
     "execution_count": 6,
     "metadata": {},
     "output_type": "execute_result"
    }
   ],
   "source": [
    "type(b)"
   ]
  },
  {
   "cell_type": "markdown",
   "id": "abcf34ad-bc34-4a10-bd12-d2d7d694fbe1",
   "metadata": {},
   "source": [
    "# EJERCICIOS"
   ]
  },
  {
   "cell_type": "markdown",
   "id": "b182df5c-e59d-4074-ab03-bb3f2d4a132a",
   "metadata": {},
   "source": [
    "1. Crea la variable mi_variable y asignale el valor \"Cinco\". Imprime el tipo de datos que contiene mi_variable"
   ]
  },
  {
   "cell_type": "code",
   "execution_count": 8,
   "id": "3ca98b08-9b86-40bb-b309-03f034cd3e4e",
   "metadata": {},
   "outputs": [],
   "source": [
    "mi_variable = \"Cinco\""
   ]
  },
  {
   "cell_type": "code",
   "execution_count": 9,
   "id": "e15cf5c3-db06-4ffe-a59d-a59788867904",
   "metadata": {},
   "outputs": [
    {
     "name": "stdout",
     "output_type": "stream",
     "text": [
      "<class 'str'>\n"
     ]
    }
   ],
   "source": [
    "print(type(\"Cinco\"))"
   ]
  },
  {
   "cell_type": "markdown",
   "id": "690bd87c-1bb3-40b0-8418-c5d56224bedf",
   "metadata": {},
   "source": [
    "2. Crea la variable mi_variable y asignale el valor \"254\". Imprime el tipo de datos que contiene mi_variable"
   ]
  },
  {
   "cell_type": "code",
   "execution_count": 10,
   "id": "f5df2060-76e0-4821-af32-54d347dd3777",
   "metadata": {},
   "outputs": [
    {
     "name": "stdout",
     "output_type": "stream",
     "text": [
      "<class 'str'>\n"
     ]
    }
   ],
   "source": [
    "print(type(\"254\"))"
   ]
  },
  {
   "cell_type": "markdown",
   "id": "20cc5f5a-e052-40c7-9580-8f5eaf0e342e",
   "metadata": {},
   "source": [
    "3. Define las variables a con un número entero y b con una cadena de texto. Imprime el tipo de cada una de estas variables. Por ejemplo si las variables son a = 5 y b = \"Fuerza\", tu programa debe imprimir <class 'int'>\n",
    "<class 'str'>"
   ]
  },
  {
   "cell_type": "code",
   "execution_count": 11,
   "id": "b625f315-d84c-49c0-9ad5-6b900665b88e",
   "metadata": {},
   "outputs": [],
   "source": [
    "a = 5"
   ]
  },
  {
   "cell_type": "code",
   "execution_count": 12,
   "id": "e76fb327-7065-4952-b60a-ff1a80d25b54",
   "metadata": {},
   "outputs": [],
   "source": [
    "b = \"Fuerza\""
   ]
  },
  {
   "cell_type": "code",
   "execution_count": 13,
   "id": "b3c35953-bd24-48fd-9299-4e27ffe1b3d0",
   "metadata": {},
   "outputs": [
    {
     "name": "stdout",
     "output_type": "stream",
     "text": [
      "<class 'int'>\n",
      "<class 'str'>\n"
     ]
    }
   ],
   "source": [
    "print(type(a))\n",
    "print(type(b))"
   ]
  },
  {
   "cell_type": "code",
   "execution_count": null,
   "id": "8b539f3a-f705-40ee-9adb-3e620235e40f",
   "metadata": {},
   "outputs": [],
   "source": []
  }
 ],
 "metadata": {
  "kernelspec": {
   "display_name": "Python 3 (ipykernel)",
   "language": "python",
   "name": "python3"
  },
  "language_info": {
   "codemirror_mode": {
    "name": "ipython",
    "version": 3
   },
   "file_extension": ".py",
   "mimetype": "text/x-python",
   "name": "python",
   "nbconvert_exporter": "python",
   "pygments_lexer": "ipython3",
   "version": "3.12.7"
  }
 },
 "nbformat": 4,
 "nbformat_minor": 5
}
