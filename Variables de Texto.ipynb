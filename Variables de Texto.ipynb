{
 "cells": [
  {
   "cell_type": "code",
   "execution_count": 1,
   "id": "f47bc682-0480-4c7e-bab5-39a6de959c5e",
   "metadata": {},
   "outputs": [
    {
     "data": {
      "text/plain": [
       "'Hola Mundo'"
      ]
     },
     "execution_count": 1,
     "metadata": {},
     "output_type": "execute_result"
    }
   ],
   "source": [
    "\"Hola Mundo\""
   ]
  },
  {
   "cell_type": "code",
   "execution_count": 2,
   "id": "42401ee5-ea47-4a17-9500-0e5a44a37e6a",
   "metadata": {},
   "outputs": [
    {
     "data": {
      "text/plain": [
       "'Hola Mundo'"
      ]
     },
     "execution_count": 2,
     "metadata": {},
     "output_type": "execute_result"
    }
   ],
   "source": [
    "'Hola Mundo'"
   ]
  },
  {
   "cell_type": "markdown",
   "id": "0cf51160-dd39-4886-9079-5f7e1351f4a0",
   "metadata": {},
   "source": [
    "\"El ibro 'El principito' es emocionante\""
   ]
  },
  {
   "cell_type": "code",
   "execution_count": 4,
   "id": "e58bceaf-ee69-45c3-b61c-ba988803eb10",
   "metadata": {},
   "outputs": [
    {
     "data": {
      "text/plain": [
       "'El ibro \"El principito\" es emocionante'"
      ]
     },
     "execution_count": 4,
     "metadata": {},
     "output_type": "execute_result"
    }
   ],
   "source": [
    "'El ibro \"El principito\" es emocionante'"
   ]
  },
  {
   "cell_type": "code",
   "execution_count": 5,
   "id": "32163d08-fc91-4671-9a4f-cea10425acaf",
   "metadata": {},
   "outputs": [],
   "source": [
    "miFrase = 'Hola Mundo'"
   ]
  },
  {
   "cell_type": "code",
   "execution_count": 6,
   "id": "a20eea90-8e9c-45bd-85e5-653b808e0870",
   "metadata": {},
   "outputs": [
    {
     "name": "stdout",
     "output_type": "stream",
     "text": [
      "Hola Mundo\n"
     ]
    }
   ],
   "source": [
    "print(miFrase)"
   ]
  },
  {
   "cell_type": "code",
   "execution_count": 7,
   "id": "1bbe30a7-fed3-4912-bd0d-cc4bcb91dffd",
   "metadata": {},
   "outputs": [],
   "source": [
    "miFrase2 = \"Hola Mundo\""
   ]
  },
  {
   "cell_type": "code",
   "execution_count": 8,
   "id": "f9dd6f2a-4672-4614-be70-130bed7f1581",
   "metadata": {},
   "outputs": [
    {
     "data": {
      "text/plain": [
       "True"
      ]
     },
     "execution_count": 8,
     "metadata": {},
     "output_type": "execute_result"
    }
   ],
   "source": [
    "miFrase == miFrase2"
   ]
  },
  {
   "cell_type": "markdown",
   "id": "111c94b0-e94b-4230-a618-4a85cc6c53e2",
   "metadata": {},
   "source": [
    "# EJERCICIOS"
   ]
  },
  {
   "cell_type": "markdown",
   "id": "a3d0fd7f-abe2-430e-98d0-b876de9e4c02",
   "metadata": {},
   "source": [
    "1. Crea dos varibles de texto saludo y nombre. Asigna el valor \"Hola\" a saludo y tu nombre a nombre. Concatena estas dos variables para formar un mensaje de saludo completo y guárdalo en una variable llamada mensajeCompleto. No olvides el espacio entre ambas palabras. Finalmente imprime mensajeCompleto"
   ]
  },
  {
   "cell_type": "code",
   "execution_count": 9,
   "id": "d6cd9d6f-38d0-4188-aed1-cd153b8a53f9",
   "metadata": {},
   "outputs": [],
   "source": [
    "saludo = \"Hola\""
   ]
  },
  {
   "cell_type": "code",
   "execution_count": 10,
   "id": "6f8f2f92-d61d-4b0c-802c-2775045397da",
   "metadata": {},
   "outputs": [],
   "source": [
    "nombre = \"Juan\""
   ]
  },
  {
   "cell_type": "code",
   "execution_count": 21,
   "id": "c7e74717-2dba-4d60-9199-b47106c40856",
   "metadata": {},
   "outputs": [],
   "source": [
    "mensajeCompleto = saludo + \" \" + nombre"
   ]
  },
  {
   "cell_type": "code",
   "execution_count": 22,
   "id": "a9598523-71aa-4369-abee-8ac97c0adb46",
   "metadata": {},
   "outputs": [
    {
     "name": "stdout",
     "output_type": "stream",
     "text": [
      "Hola Juan\n"
     ]
    }
   ],
   "source": [
    "print(mensajeCompleto)"
   ]
  },
  {
   "cell_type": "markdown",
   "id": "0f138c08-302f-4af3-8f7d-cdd6cddb3e74",
   "metadata": {},
   "source": [
    "2. Crea una variable frase que contenga el siguiente texto: ¿Te gustó más \"el Padrino\" o el \"Padrino II\"?. Imprimir contenido de la frase."
   ]
  },
  {
   "cell_type": "code",
   "execution_count": 23,
   "id": "8266a9c2-a910-45ab-bf95-e93f42548fb7",
   "metadata": {},
   "outputs": [],
   "source": [
    "frase = '¿Te gustó más \"el Padrino\" o el \"Padrino II\"?'"
   ]
  },
  {
   "cell_type": "code",
   "execution_count": 24,
   "id": "e1467be7-d838-496b-928e-283697ccdb74",
   "metadata": {},
   "outputs": [
    {
     "name": "stdout",
     "output_type": "stream",
     "text": [
      "¿Te gustó más \"el Padrino\" o el \"Padrino II\"?\n"
     ]
    }
   ],
   "source": [
    "print(frase)"
   ]
  },
  {
   "cell_type": "markdown",
   "id": "6b6b9ab3-ac86-434f-9694-92da36cdfae3",
   "metadata": {},
   "source": [
    "3. Crea dos variables texto1 y texto2. Asigan el string Viva Python! a texto1 usando comillas simples y asigna el mismo string a texto2 pero usando comillas dobles. Crea una variable llamada sonIguales que almacene el resultado de comprobar si texto1 es igual a texto2. Imprime el valor de sonIguales."
   ]
  },
  {
   "cell_type": "code",
   "execution_count": 25,
   "id": "d3b5b52f-172d-4534-a397-0d9a9b3ea2f4",
   "metadata": {},
   "outputs": [],
   "source": [
    "texto1 = 'Viva Python!'"
   ]
  },
  {
   "cell_type": "code",
   "execution_count": 26,
   "id": "7d59140f-9cb9-4420-9d94-c757c45787b5",
   "metadata": {},
   "outputs": [],
   "source": [
    "texto2 = \"Viva Python!\""
   ]
  },
  {
   "cell_type": "code",
   "execution_count": 27,
   "id": "c97e93c4-6d7b-483a-9b1d-8f01dbe6a116",
   "metadata": {},
   "outputs": [],
   "source": [
    "sonIguales = texto1 == texto2"
   ]
  },
  {
   "cell_type": "code",
   "execution_count": 28,
   "id": "4173a7a4-064a-4b7d-8f6c-4c83cd15694b",
   "metadata": {},
   "outputs": [
    {
     "data": {
      "text/plain": [
       "True"
      ]
     },
     "execution_count": 28,
     "metadata": {},
     "output_type": "execute_result"
    }
   ],
   "source": [
    "sonIguales"
   ]
  },
  {
   "cell_type": "code",
   "execution_count": 29,
   "id": "f854b542-0951-4065-af4b-329fe512c0ac",
   "metadata": {},
   "outputs": [
    {
     "name": "stdout",
     "output_type": "stream",
     "text": [
      "True\n"
     ]
    }
   ],
   "source": [
    "print(sonIguales)"
   ]
  },
  {
   "cell_type": "code",
   "execution_count": null,
   "id": "4383b7fa-444f-424b-b243-65d11bc06abe",
   "metadata": {},
   "outputs": [],
   "source": []
  }
 ],
 "metadata": {
  "kernelspec": {
   "display_name": "Python 3 (ipykernel)",
   "language": "python",
   "name": "python3"
  },
  "language_info": {
   "codemirror_mode": {
    "name": "ipython",
    "version": 3
   },
   "file_extension": ".py",
   "mimetype": "text/x-python",
   "name": "python",
   "nbconvert_exporter": "python",
   "pygments_lexer": "ipython3",
   "version": "3.12.7"
  }
 },
 "nbformat": 4,
 "nbformat_minor": 5
}
