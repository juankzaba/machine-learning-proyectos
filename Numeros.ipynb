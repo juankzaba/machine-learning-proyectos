{
 "cells": [
  {
   "cell_type": "code",
   "execution_count": 1,
   "id": "f6061c80-af97-46e2-9239-035386c7345f",
   "metadata": {},
   "outputs": [
    {
     "data": {
      "text/plain": [
       "int"
      ]
     },
     "execution_count": 1,
     "metadata": {},
     "output_type": "execute_result"
    }
   ],
   "source": [
    "type(23)"
   ]
  },
  {
   "cell_type": "code",
   "execution_count": 2,
   "id": "b107295e-e4f6-445a-85a5-88ba533ced9a",
   "metadata": {},
   "outputs": [
    {
     "data": {
      "text/plain": [
       "int"
      ]
     },
     "execution_count": 2,
     "metadata": {},
     "output_type": "execute_result"
    }
   ],
   "source": [
    "type(-6)"
   ]
  },
  {
   "cell_type": "code",
   "execution_count": 3,
   "id": "52697724-e2ce-4b52-bb54-5f6eaaa1be6a",
   "metadata": {},
   "outputs": [
    {
     "data": {
      "text/plain": [
       "int"
      ]
     },
     "execution_count": 3,
     "metadata": {},
     "output_type": "execute_result"
    }
   ],
   "source": [
    "type(0)"
   ]
  },
  {
   "cell_type": "code",
   "execution_count": 4,
   "id": "181c1a18-10d5-4543-951a-b11dd7227b8f",
   "metadata": {},
   "outputs": [
    {
     "data": {
      "text/plain": [
       "float"
      ]
     },
     "execution_count": 4,
     "metadata": {},
     "output_type": "execute_result"
    }
   ],
   "source": [
    "type(3.12)"
   ]
  },
  {
   "cell_type": "code",
   "execution_count": 6,
   "id": "f9d9bc51-a84d-4620-a818-15d95b892257",
   "metadata": {},
   "outputs": [
    {
     "name": "stdout",
     "output_type": "stream",
     "text": [
      "<class 'float'>\n",
      "<class 'float'>\n",
      "<class 'float'>\n"
     ]
    }
   ],
   "source": [
    "print(type(-2.5))\n",
    "print(type(0.000001))\n",
    "print(type(246.598745215))"
   ]
  },
  {
   "cell_type": "markdown",
   "id": "c3d91d17-79c1-48f1-8a46-703a585ca370",
   "metadata": {},
   "source": [
    "## Numeros Complejos"
   ]
  },
  {
   "cell_type": "code",
   "execution_count": 7,
   "id": "58849306-cb4f-461d-a35c-b752e413a8c9",
   "metadata": {},
   "outputs": [
    {
     "data": {
      "text/plain": [
       "(3+4j)"
      ]
     },
     "execution_count": 7,
     "metadata": {},
     "output_type": "execute_result"
    }
   ],
   "source": [
    "3 +4J"
   ]
  },
  {
   "cell_type": "code",
   "execution_count": 8,
   "id": "7ca0b7e1-6fbb-48ef-b4ac-82c0495ec4aa",
   "metadata": {},
   "outputs": [
    {
     "data": {
      "text/plain": [
       "(-5.2-5j)"
      ]
     },
     "execution_count": 8,
     "metadata": {},
     "output_type": "execute_result"
    }
   ],
   "source": [
    "-5.2 - 5J"
   ]
  },
  {
   "cell_type": "code",
   "execution_count": 9,
   "id": "9cd20997-4c42-4963-a876-e15f245ee195",
   "metadata": {},
   "outputs": [
    {
     "data": {
      "text/plain": [
       "complex"
      ]
     },
     "execution_count": 9,
     "metadata": {},
     "output_type": "execute_result"
    }
   ],
   "source": [
    "type(3 +4J)"
   ]
  },
  {
   "cell_type": "code",
   "execution_count": 10,
   "id": "74e54273-102c-491b-82ea-172f06e57585",
   "metadata": {},
   "outputs": [
    {
     "data": {
      "text/plain": [
       "(3+2j)"
      ]
     },
     "execution_count": 10,
     "metadata": {},
     "output_type": "execute_result"
    }
   ],
   "source": [
    "complex (3,2)"
   ]
  },
  {
   "cell_type": "code",
   "execution_count": 11,
   "id": "c0447062-c446-4d8b-beaa-99eef0379afd",
   "metadata": {},
   "outputs": [],
   "source": [
    "b = complex (4,6)"
   ]
  },
  {
   "cell_type": "code",
   "execution_count": 12,
   "id": "421d66fa-60ec-41ae-945a-236a09a040d3",
   "metadata": {},
   "outputs": [
    {
     "data": {
      "text/plain": [
       "(4+6j)"
      ]
     },
     "execution_count": 12,
     "metadata": {},
     "output_type": "execute_result"
    }
   ],
   "source": [
    "b"
   ]
  },
  {
   "cell_type": "code",
   "execution_count": 13,
   "id": "c956bf96-d4c2-4288-8891-8d5483e8a2cf",
   "metadata": {},
   "outputs": [
    {
     "data": {
      "text/plain": [
       "complex"
      ]
     },
     "execution_count": 13,
     "metadata": {},
     "output_type": "execute_result"
    }
   ],
   "source": [
    "type(b)"
   ]
  },
  {
   "cell_type": "markdown",
   "id": "bc6289b9-9547-4fde-8e71-f137e9da55a8",
   "metadata": {},
   "source": [
    "# EJERCICIOS"
   ]
  },
  {
   "cell_type": "markdown",
   "id": "0e27d728-2464-40b4-8042-b94683bf97c7",
   "metadata": {},
   "source": [
    "1. Escribe un programa que calcule el área de un retángulo. Define dos variables largo y ancho, con valores asignados por ti, se puede asignar valores de tipo entero o float. El programa debe calcular el área del rectángulo (largo * ancho) y almacenarlo en una variable llamada area. Imprimir el resultado."
   ]
  },
  {
   "cell_type": "code",
   "execution_count": 15,
   "id": "0a761a6c-a66b-4960-a0d0-d5bcca4cfce8",
   "metadata": {},
   "outputs": [],
   "source": [
    "largo = 10\n",
    "ancho = 3.5\n",
    "area = largo * ancho"
   ]
  },
  {
   "cell_type": "code",
   "execution_count": 16,
   "id": "d9fa9242-734c-4157-8f76-4e447ebba930",
   "metadata": {},
   "outputs": [
    {
     "name": "stdout",
     "output_type": "stream",
     "text": [
      "35.0\n"
     ]
    }
   ],
   "source": [
    "print(area)"
   ]
  },
  {
   "cell_type": "markdown",
   "id": "4685239e-55e7-4dcc-b7c5-9f0846cec9b2",
   "metadata": {},
   "source": [
    "2. Crea un programa que realice la conversión de temperatura de grados celsius a Fahrenheit. Define una variable llamada celsius y asignale un valor entero o decimal positivo. Utiliza la fórmula celsius * 9/5 + 32 para convertir la temperatura de Celsius a Farenheit asigna el resultado a una variable llamada farenheit. Imprime el valor del resultado de la variable farenheit"
   ]
  },
  {
   "cell_type": "code",
   "execution_count": 17,
   "id": "0d9db680-7893-42f8-9ac4-6ce3154b9209",
   "metadata": {},
   "outputs": [],
   "source": [
    "celsius = 65.5\n",
    "farenheit = celsius * 9/5 + 32\n"
   ]
  },
  {
   "cell_type": "code",
   "execution_count": 18,
   "id": "c77316d2-784a-4e45-8ee8-70d4c034b2fe",
   "metadata": {},
   "outputs": [
    {
     "name": "stdout",
     "output_type": "stream",
     "text": [
      "149.9\n"
     ]
    }
   ],
   "source": [
    "print(farenheit)"
   ]
  },
  {
   "cell_type": "markdown",
   "id": "a86d19fb-51a8-4351-afda-9ef51c6cad2a",
   "metadata": {},
   "source": [
    "3. Declara una variable llamada numero_complejo y almacénale un número complejo de tu elección. Imprime el tipo de dato de la la variable numero_complejo"
   ]
  },
  {
   "cell_type": "code",
   "execution_count": 19,
   "id": "ce01eaa8-d7db-4fa3-b3e9-a7ae8f94c092",
   "metadata": {},
   "outputs": [],
   "source": [
    "numero_complejo = 3 +8J"
   ]
  },
  {
   "cell_type": "code",
   "execution_count": 20,
   "id": "cb488d18-7898-4424-a12f-6199801b4451",
   "metadata": {},
   "outputs": [
    {
     "name": "stdout",
     "output_type": "stream",
     "text": [
      "<class 'complex'>\n"
     ]
    }
   ],
   "source": [
    "print(type(numero_complejo))"
   ]
  },
  {
   "cell_type": "code",
   "execution_count": null,
   "id": "56beb4b1-cadb-405d-8daf-2bd7bfc475bb",
   "metadata": {},
   "outputs": [],
   "source": []
  }
 ],
 "metadata": {
  "kernelspec": {
   "display_name": "Python 3 (ipykernel)",
   "language": "python",
   "name": "python3"
  },
  "language_info": {
   "codemirror_mode": {
    "name": "ipython",
    "version": 3
   },
   "file_extension": ".py",
   "mimetype": "text/x-python",
   "name": "python",
   "nbconvert_exporter": "python",
   "pygments_lexer": "ipython3",
   "version": "3.12.7"
  }
 },
 "nbformat": 4,
 "nbformat_minor": 5
}
