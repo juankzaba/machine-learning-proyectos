{
 "cells": [
  {
   "cell_type": "code",
   "execution_count": 1,
   "id": "7b9c91e7-766c-4280-b7be-8629a7bc93c8",
   "metadata": {},
   "outputs": [
    {
     "data": {
      "text/plain": [
       "1"
      ]
     },
     "execution_count": 1,
     "metadata": {},
     "output_type": "execute_result"
    }
   ],
   "source": [
    "1"
   ]
  },
  {
   "cell_type": "code",
   "execution_count": 2,
   "id": "18ec07b1-bc95-4653-ac4d-232b5ed2ea8b",
   "metadata": {},
   "outputs": [],
   "source": [
    "miNumero = 1"
   ]
  },
  {
   "cell_type": "code",
   "execution_count": 3,
   "id": "b657ad5f-8257-49e8-936a-daf5a52a732e",
   "metadata": {},
   "outputs": [
    {
     "data": {
      "text/plain": [
       "1"
      ]
     },
     "execution_count": 3,
     "metadata": {},
     "output_type": "execute_result"
    }
   ],
   "source": [
    "miNumero"
   ]
  },
  {
   "cell_type": "code",
   "execution_count": 4,
   "id": "002c15b2-8f05-4c6c-8d5d-6110eaa15021",
   "metadata": {},
   "outputs": [
    {
     "data": {
      "text/plain": [
       "3"
      ]
     },
     "execution_count": 4,
     "metadata": {},
     "output_type": "execute_result"
    }
   ],
   "source": [
    "miNumero + 2"
   ]
  },
  {
   "cell_type": "code",
   "execution_count": 5,
   "id": "feb5ac50-6603-4dab-8f15-38b7739e7199",
   "metadata": {},
   "outputs": [],
   "source": [
    "otroNumero =2"
   ]
  },
  {
   "cell_type": "code",
   "execution_count": 6,
   "id": "808ae1e7-bad6-4cf4-ad0e-f9c6cf0529c4",
   "metadata": {},
   "outputs": [
    {
     "data": {
      "text/plain": [
       "2"
      ]
     },
     "execution_count": 6,
     "metadata": {},
     "output_type": "execute_result"
    }
   ],
   "source": [
    "otroNumero"
   ]
  },
  {
   "cell_type": "code",
   "execution_count": 7,
   "id": "4caa4077-e9a0-4fce-8710-4aa406c64873",
   "metadata": {},
   "outputs": [
    {
     "data": {
      "text/plain": [
       "3"
      ]
     },
     "execution_count": 7,
     "metadata": {},
     "output_type": "execute_result"
    }
   ],
   "source": [
    "miNumero + otroNumero"
   ]
  },
  {
   "cell_type": "code",
   "execution_count": 8,
   "id": "ae6e7fa4-df79-4b50-8083-e111c1917d3a",
   "metadata": {},
   "outputs": [],
   "source": [
    "miNumero = 3\n"
   ]
  },
  {
   "cell_type": "code",
   "execution_count": 9,
   "id": "31c5bc96-f6e8-44ce-9d4a-7d8c51f5a106",
   "metadata": {},
   "outputs": [
    {
     "data": {
      "text/plain": [
       "3"
      ]
     },
     "execution_count": 9,
     "metadata": {},
     "output_type": "execute_result"
    }
   ],
   "source": [
    "miNumero"
   ]
  },
  {
   "cell_type": "code",
   "execution_count": 10,
   "id": "88433d5e-29ee-4dd5-9a36-328526b54da5",
   "metadata": {},
   "outputs": [],
   "source": [
    "nuevoNumero = 3"
   ]
  },
  {
   "cell_type": "code",
   "execution_count": 11,
   "id": "b97ea5ed-c195-4279-930e-eb8e272b5465",
   "metadata": {},
   "outputs": [
    {
     "data": {
      "text/plain": [
       "6"
      ]
     },
     "execution_count": 11,
     "metadata": {},
     "output_type": "execute_result"
    }
   ],
   "source": [
    "miNumero + nuevoNumero"
   ]
  },
  {
   "cell_type": "code",
   "execution_count": 12,
   "id": "996ea219-14e2-456e-a8cb-434474f77125",
   "metadata": {},
   "outputs": [],
   "source": [
    "miNumero = miNumero + 1"
   ]
  },
  {
   "cell_type": "code",
   "execution_count": 13,
   "id": "bf4498b9-2828-44aa-8f42-1c9bd8676843",
   "metadata": {},
   "outputs": [
    {
     "data": {
      "text/plain": [
       "4"
      ]
     },
     "execution_count": 13,
     "metadata": {},
     "output_type": "execute_result"
    }
   ],
   "source": [
    "miNumero"
   ]
  },
  {
   "cell_type": "markdown",
   "id": "07282968-6d15-4f5c-af42-4647400d0f09",
   "metadata": {},
   "source": [
    "Crear dos variables numéricas (numero1, numero2). Asigna el valor 5 a numero1 y el valor 8 a numero2. Calcula la suma de estas dos variables y almacena el resultado en una nueva variable llamada suma. Imprime el valor de la suma"
   ]
  },
  {
   "cell_type": "code",
   "execution_count": 14,
   "id": "883e276e-f7ed-4f06-82d9-c46df5d5cf3c",
   "metadata": {},
   "outputs": [],
   "source": [
    "numero1 = 5"
   ]
  },
  {
   "cell_type": "code",
   "execution_count": 15,
   "id": "865edb1a-04b2-48c2-8bbf-0e5d253cc62b",
   "metadata": {},
   "outputs": [],
   "source": [
    "numero2 = 8"
   ]
  },
  {
   "cell_type": "code",
   "execution_count": 16,
   "id": "34995cf9-1e77-42e4-8094-5aec55c01886",
   "metadata": {},
   "outputs": [],
   "source": [
    "suma = numero1 + numero2"
   ]
  },
  {
   "cell_type": "code",
   "execution_count": 17,
   "id": "dd014c8a-bc65-43cc-8e03-8c435529ba65",
   "metadata": {},
   "outputs": [
    {
     "data": {
      "text/plain": [
       "13"
      ]
     },
     "execution_count": 17,
     "metadata": {},
     "output_type": "execute_result"
    }
   ],
   "source": [
    "suma"
   ]
  },
  {
   "cell_type": "markdown",
   "id": "d799de7c-1bee-4438-b76b-0c1f666cba17",
   "metadata": {},
   "source": [
    "Crea una variable miEdad y asignale el valor de 20. Incrementa el valor de miEdad en 2 utilizando una reasignación. Imprime el nuevo valor de miEdad."
   ]
  },
  {
   "cell_type": "code",
   "execution_count": 18,
   "id": "b602708f-985a-4d6e-b33e-b9a627c446f8",
   "metadata": {},
   "outputs": [],
   "source": [
    "miEdad = 20"
   ]
  },
  {
   "cell_type": "code",
   "execution_count": 19,
   "id": "96f5c92c-cf08-4208-bac0-bc3323e0e5b2",
   "metadata": {},
   "outputs": [],
   "source": [
    "miEdad = miEdad + 2"
   ]
  },
  {
   "cell_type": "code",
   "execution_count": 20,
   "id": "8d62d753-ebd9-4c3f-9edd-0e291a7de9a8",
   "metadata": {},
   "outputs": [
    {
     "data": {
      "text/plain": [
       "22"
      ]
     },
     "execution_count": 20,
     "metadata": {},
     "output_type": "execute_result"
    }
   ],
   "source": [
    "miEdad"
   ]
  },
  {
   "cell_type": "markdown",
   "id": "e911f011-3970-414c-a686-87d63f7ccad6",
   "metadata": {},
   "source": [
    "Crea 3 variables a,b y c. Asigna los valores 10,20 y 30 a estas variables respectivamente.Calcula la suma de a y b, y resta c del resultado. Guarda este resultado final en una variable resultadoFinal. Impime el resultado"
   ]
  },
  {
   "cell_type": "code",
   "execution_count": 21,
   "id": "ca249ecc-80bb-4db0-bafc-19d5497fa259",
   "metadata": {},
   "outputs": [],
   "source": [
    "a = 10"
   ]
  },
  {
   "cell_type": "code",
   "execution_count": 22,
   "id": "ae019831-b0a6-4f0a-ae0f-417e6280b79a",
   "metadata": {},
   "outputs": [],
   "source": [
    "b = 20"
   ]
  },
  {
   "cell_type": "code",
   "execution_count": 23,
   "id": "547fc864-0a9e-437d-b464-e4e908a9f2b7",
   "metadata": {},
   "outputs": [],
   "source": [
    "c = 30"
   ]
  },
  {
   "cell_type": "code",
   "execution_count": 24,
   "id": "3500ea20-e903-486e-b5b6-7289424e067e",
   "metadata": {},
   "outputs": [],
   "source": [
    "resultadoFinal = a + b - c"
   ]
  },
  {
   "cell_type": "code",
   "execution_count": 26,
   "id": "6c402e0b-ab6c-40a0-b2ca-8b43b071c348",
   "metadata": {},
   "outputs": [
    {
     "data": {
      "text/plain": [
       "0"
      ]
     },
     "execution_count": 26,
     "metadata": {},
     "output_type": "execute_result"
    }
   ],
   "source": [
    "resultadoFinal"
   ]
  },
  {
   "cell_type": "code",
   "execution_count": null,
   "id": "ee38a128-9277-4d6a-924f-18fa8fc304e6",
   "metadata": {},
   "outputs": [],
   "source": []
  }
 ],
 "metadata": {
  "kernelspec": {
   "display_name": "Python 3 (ipykernel)",
   "language": "python",
   "name": "python3"
  },
  "language_info": {
   "codemirror_mode": {
    "name": "ipython",
    "version": 3
   },
   "file_extension": ".py",
   "mimetype": "text/x-python",
   "name": "python",
   "nbconvert_exporter": "python",
   "pygments_lexer": "ipython3",
   "version": "3.12.7"
  }
 },
 "nbformat": 4,
 "nbformat_minor": 5
}
