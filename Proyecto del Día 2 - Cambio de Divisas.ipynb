{
 "cells": [
  {
   "cell_type": "markdown",
   "id": "03b0570d",
   "metadata": {},
   "source": [
    "## Instrucciones paso a paso\n",
    "\n",
    "1. Escribe el código necesario para saludar al usuario, antes de comenzar sus operaciones. Vas a crear tres variables que contengan, respectivamente, el **nombre** del usuario, la **fecha** del día en que está haciendo la operación, y un **saludo** que puede ser *Buenos días*, *Buenas tardes* o *Buenas noches*."
   ]
  },
  {
   "cell_type": "code",
   "execution_count": 4,
   "id": "1d831394",
   "metadata": {},
   "outputs": [],
   "source": [
    "nombre = \"Salome\"\n",
    "fecha = \"30/07/2025\"\n",
    "saludo = \"Buenas tardes\""
   ]
  },
  {
   "cell_type": "markdown",
   "id": "0107668a",
   "metadata": {},
   "source": [
    "2. Crea una variable llamada **bienvenida** que concatene toda la información anterior en un solo mensaje que salude al usuario  que va a usar el servicio de cambio de divisas. Puedes poner la creatividad que gustes en este mensaje.\n",
    "\n",
    "**Pista**: Recuerda que en la lección operaciones vimos cómo puedes concatenar strings para formar una sola cadena de texto."
   ]
  },
  {
   "cell_type": "code",
   "execution_count": 11,
   "id": "eb011cf0",
   "metadata": {},
   "outputs": [
    {
     "data": {
      "text/plain": [
       "'Buenas tardes Salome hoy es: 30/07/2025. Bienvenido al sistema de divisas!'"
      ]
     },
     "execution_count": 11,
     "metadata": {},
     "output_type": "execute_result"
    }
   ],
   "source": [
    "bienvenida = saludo + \" \" + nombre + \" \" + \"hoy es:\" + \" \" + fecha + \". \" + \"Bienvenido al sistema de divisas!\"\n",
    "bienvenida"
   ]
  },
  {
   "cell_type": "markdown",
   "id": "11ebd166",
   "metadata": {},
   "source": [
    "3. Crea una variable numérica llamada **dolares** que almacene la cantidad de dólares que quieres cambiar por euros. Ten en cuenta que los valores en *moneda* suelen expresarse con números decimales, por lo que sería ideal utilizar un valor de tipo **float**."
   ]
  },
  {
   "cell_type": "code",
   "execution_count": 20,
   "id": "4a65fdf7",
   "metadata": {},
   "outputs": [
    {
     "data": {
      "text/plain": [
       "210.0"
      ]
     },
     "execution_count": 20,
     "metadata": {},
     "output_type": "execute_result"
    }
   ],
   "source": [
    "dolares = 210.0\n",
    "dolares"
   ]
  },
  {
   "cell_type": "markdown",
   "id": "8fc42727",
   "metadata": {},
   "source": [
    "4. Crea una variable llamada **euros_a_recibir** que guarde el resultado de calcular cuántos euros corresponden para la cantidad de dolares ingresada en la variable **dolares**. El tipo de cambio que usaremos es de *0.88*."
   ]
  },
  {
   "cell_type": "code",
   "execution_count": 23,
   "id": "cada2ca6",
   "metadata": {},
   "outputs": [
    {
     "data": {
      "text/plain": [
       "184.8"
      ]
     },
     "execution_count": 23,
     "metadata": {},
     "output_type": "execute_result"
    }
   ],
   "source": [
    "euros_a_recibir = dolares * 0.88\n",
    "euros_a_recibir"
   ]
  },
  {
   "cell_type": "markdown",
   "id": "66eabb60",
   "metadata": {},
   "source": [
    "5. Nuestra máquina (imaginaria), solo entrega billetes de €10, y de €1 (los decimales los entregará en monedas). Crea 3 variables para cada uno de esos valores (**billetes_10**, **billetes_1** y **monedas**), que contengan los cálculos necesarios para saber cuánto valor en monedas, y cuántos billetes de cada tipo recibirá el usuario."
   ]
  },
  {
   "cell_type": "code",
   "execution_count": 24,
   "id": "e464555d",
   "metadata": {},
   "outputs": [
    {
     "data": {
      "text/plain": [
       "18.0"
      ]
     },
     "execution_count": 24,
     "metadata": {},
     "output_type": "execute_result"
    }
   ],
   "source": [
    "billetes_10 = euros_a_recibir // 10\n",
    "billetes_10"
   ]
  },
  {
   "cell_type": "code",
   "execution_count": 25,
   "id": "0f6c8ae9",
   "metadata": {},
   "outputs": [
    {
     "data": {
      "text/plain": [
       "4.0"
      ]
     },
     "execution_count": 25,
     "metadata": {},
     "output_type": "execute_result"
    }
   ],
   "source": [
    "billetes_1 = (euros_a_recibir - (billetes_10 * 10)) // 1\n",
    "billetes_1"
   ]
  },
  {
   "cell_type": "code",
   "execution_count": 28,
   "id": "0f20c4dc",
   "metadata": {},
   "outputs": [
    {
     "data": {
      "text/plain": [
       "0.8000000000000114"
      ]
     },
     "execution_count": 28,
     "metadata": {},
     "output_type": "execute_result"
    }
   ],
   "source": [
    "monedas = euros_a_recibir % 1\n",
    "monedas"
   ]
  },
  {
   "cell_type": "markdown",
   "id": "a04f72df",
   "metadata": {},
   "source": [
    "6. Finalmente escribe una serie de declaraciones **print()** que expresen el mensaje completo, mostrando los siguientes elementos:\n",
    "- Mensaje de bienvenida\n",
    "- Información sobre los dólares que entregará\n",
    "- Información sobre los euros que recibirá\n",
    "- Detalle de billetes y monedas que le serán entregados\n",
    "- Saludo de despedida\n",
    "\n",
    "**Importante**: Cómo aún no hemos aprendido a concatenar números y texto en la misma línea de impresión, en muchas ocaciones deberás crear líneas separadas para que el mensaje se muestre como en el siguiente ejemplo:\n",
    "\n",
    "```\n",
    "Dolares a entregar:\n",
    "150.45\n",
    "```\n"
   ]
  },
  {
   "cell_type": "code",
   "execution_count": 30,
   "id": "23786052",
   "metadata": {},
   "outputs": [
    {
     "name": "stdout",
     "output_type": "stream",
     "text": [
      "Buenas tardes Salome hoy es: 30/07/2025. Bienvenido al sistema de divisas!\n",
      "\n",
      "Cantidad de dólares a cambiar:\n",
      "210.0\n",
      "\n",
      "Euros que va a recibir:\n",
      "184.8\n",
      "\n",
      "Usted va a recibir el dinero de la siguiente manera:\n",
      "Billetes de 10 euros:\n",
      "18.0\n",
      "\n",
      "Billetes de 1 euro:\n",
      "\n",
      "4.0\n",
      "\n",
      "Mónedas\n",
      "0.8000000000000114\n",
      "\n",
      "Gracias por utilizar nuestros servicios Salome.\n"
     ]
    }
   ],
   "source": [
    "print(bienvenida)\n",
    "print(\"\")\n",
    "print(\"Cantidad de dólares a cambiar:\")\n",
    "print(dolares)\n",
    "print(\"\")\n",
    "print(\"Euros que va a recibir:\")\n",
    "print(euros_a_recibir)\n",
    "print(\"\")\n",
    "print(\"Usted va a recibir el dinero de la siguiente manera:\")\n",
    "print(\"Billetes de 10 euros:\")\n",
    "print(billetes_10)\n",
    "print(\"\")\n",
    "print(\"Billetes de 1 euro:\")\n",
    "print(\"\")\n",
    "print(billetes_1)\n",
    "print(\"\")\n",
    "print(\"Mónedas\")\n",
    "print(monedas)\n",
    "print(\"\")\n",
    "print(\"Gracias por utilizar nuestros servicios \"+ nombre +\".\")\n"
   ]
  },
  {
   "cell_type": "code",
   "execution_count": null,
   "id": "97a88f1f-3c30-4e19-9d38-24e73a6f8995",
   "metadata": {},
   "outputs": [],
   "source": []
  }
 ],
 "metadata": {
  "kernelspec": {
   "display_name": "Python 3 (ipykernel)",
   "language": "python",
   "name": "python3"
  },
  "language_info": {
   "codemirror_mode": {
    "name": "ipython",
    "version": 3
   },
   "file_extension": ".py",
   "mimetype": "text/x-python",
   "name": "python",
   "nbconvert_exporter": "python",
   "pygments_lexer": "ipython3",
   "version": "3.12.7"
  }
 },
 "nbformat": 4,
 "nbformat_minor": 5
}
