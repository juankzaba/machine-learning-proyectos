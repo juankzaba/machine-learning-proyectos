{
 "cells": [
  {
   "cell_type": "code",
   "execution_count": 1,
   "id": "a1d3d67d-1eb5-4507-9ce4-cb3dea553030",
   "metadata": {},
   "outputs": [],
   "source": [
    "palabra = 'banana'"
   ]
  },
  {
   "cell_type": "code",
   "execution_count": 2,
   "id": "be0b21a1-f5e7-49f7-8128-9ec46aced1c0",
   "metadata": {},
   "outputs": [
    {
     "data": {
      "text/plain": [
       "3"
      ]
     },
     "execution_count": 2,
     "metadata": {},
     "output_type": "execute_result"
    }
   ],
   "source": [
    "palabra.count(\"a\")"
   ]
  },
  {
   "cell_type": "code",
   "execution_count": 3,
   "id": "736fb093-32f5-4cfe-baa9-d92f0cf6da6a",
   "metadata": {},
   "outputs": [],
   "source": [
    "frase = \"Estudiar python es una gran decisión\""
   ]
  },
  {
   "cell_type": "code",
   "execution_count": 4,
   "id": "3f094377-d6b3-4a9c-8c2c-3994274b3599",
   "metadata": {},
   "outputs": [
    {
     "data": {
      "text/plain": [
       "5"
      ]
     },
     "execution_count": 4,
     "metadata": {},
     "output_type": "execute_result"
    }
   ],
   "source": [
    "frase.count(\" \")"
   ]
  },
  {
   "cell_type": "code",
   "execution_count": 5,
   "id": "532902ec-3cf5-4cb8-b31e-0e847d50de83",
   "metadata": {},
   "outputs": [
    {
     "name": "stdout",
     "output_type": "stream",
     "text": [
      "6\n"
     ]
    }
   ],
   "source": [
    "print(frase.count(\" \")+ 1)# Para saber la cantidad de palabras que tiene la frase"
   ]
  },
  {
   "cell_type": "code",
   "execution_count": 6,
   "id": "57207172-5f16-4dea-830d-bbda5a31231a",
   "metadata": {},
   "outputs": [],
   "source": [
    "frase = \" Estudiar python es una gran decisión \""
   ]
  },
  {
   "cell_type": "code",
   "execution_count": 7,
   "id": "97d7674f-6cbe-4ebe-a2f6-2fe4d6a2a325",
   "metadata": {},
   "outputs": [
    {
     "name": "stdout",
     "output_type": "stream",
     "text": [
      "6\n"
     ]
    }
   ],
   "source": [
    "print(frase.strip().count(\" \")+ 1)# Para omitir los espacios que hay antes o después de la frase"
   ]
  },
  {
   "cell_type": "code",
   "execution_count": 8,
   "id": "1d7504f1-c0b3-4092-b718-5267bbeb74d9",
   "metadata": {},
   "outputs": [
    {
     "data": {
      "text/plain": [
       "['', 'Estudiar', 'python', 'es', 'una', 'gran', 'decisión', '']"
      ]
     },
     "execution_count": 8,
     "metadata": {},
     "output_type": "execute_result"
    }
   ],
   "source": [
    "frase.split(\" \")"
   ]
  },
  {
   "cell_type": "code",
   "execution_count": 9,
   "id": "38f0902a-5df7-4905-93dd-8d475303b731",
   "metadata": {},
   "outputs": [
    {
     "data": {
      "text/plain": [
       "['Estudiar', 'python', 'es', 'una', 'gran', 'decisión']"
      ]
     },
     "execution_count": 9,
     "metadata": {},
     "output_type": "execute_result"
    }
   ],
   "source": [
    "frase.strip().split(\" \")"
   ]
  },
  {
   "cell_type": "markdown",
   "id": "3c4a79ca-1a13-4235-914d-4667bceaab98",
   "metadata": {},
   "source": [
    "# EJERCICIOS"
   ]
  },
  {
   "cell_type": "markdown",
   "id": "cc203fb1-3e7b-48d0-a449-ec1726acc0ee",
   "metadata": {},
   "source": [
    "1. Escribe un programa que tenga dos variables de tipo string palabra y letra. Almacena una palabra y una letra de tu elección. Utiliza el método adecuado para contar cuántas veces aparece la letra en la variable palabra"
   ]
  },
  {
   "cell_type": "code",
   "execution_count": 10,
   "id": "d357cb2a-ed5b-4504-82ca-2167c280f4c6",
   "metadata": {},
   "outputs": [],
   "source": [
    "palabra = 'esternocleidomastoideo'\n",
    "letra = 'e'\n",
    "count = palabra.count(letra)"
   ]
  },
  {
   "cell_type": "code",
   "execution_count": 12,
   "id": "c921ae7b-a8f5-49d1-b451-21684bbc0682",
   "metadata": {},
   "outputs": [
    {
     "name": "stdout",
     "output_type": "stream",
     "text": [
      "4\n"
     ]
    }
   ],
   "source": [
    "print (count)"
   ]
  },
  {
   "cell_type": "markdown",
   "id": "0b22e9e4-4f7d-421b-ab6d-e920fd375749",
   "metadata": {},
   "source": [
    "2. Escribe un programa en el que declares una variable llamada frase y le asignes el texto que prefieras. Utiliza un método para contar el número de palabras contenidas en ella. Imprime el resultado"
   ]
  },
  {
   "cell_type": "code",
   "execution_count": 18,
   "id": "b236bb44-82f0-454b-b98b-c9f6a89bdd67",
   "metadata": {},
   "outputs": [
    {
     "name": "stdout",
     "output_type": "stream",
     "text": [
      "3\n"
     ]
    }
   ],
   "source": [
    "frase = \"Python es genial\"\n",
    "print(frase.count(\" \") + 1)"
   ]
  },
  {
   "cell_type": "markdown",
   "id": "0f186450-2c8f-48a0-8641-2f36aae1ddb2",
   "metadata": {},
   "source": [
    "3. Escribe un programa declares una variable llamada frase y le asignes el texto que prefieras. La frase debe contener un espacio, al inicio y al final. La frase debe tener todas sus palabras separadas por un único espacio. Crea una variable llamada palabras_en_frase donde se almacene el número de palabras contenidas en la frase. Elimina los espacios al inicio y al final de la frase. Contar el número de palabras contenidas en la frase. Imprimir en pantalla"
   ]
  },
  {
   "cell_type": "code",
   "execution_count": 20,
   "id": "06fdad9f-0a07-472a-baba-be3de162a339",
   "metadata": {},
   "outputs": [
    {
     "name": "stdout",
     "output_type": "stream",
     "text": [
      "3\n"
     ]
    }
   ],
   "source": [
    "frase = \" Python es genial \"\n",
    "palabras_en_frase = (frase.strip().count(\" \")+ 1)\n",
    "print(palabras_en_frase)"
   ]
  },
  {
   "cell_type": "code",
   "execution_count": null,
   "id": "7319a024-d294-44f7-8822-cd4f0b054ab0",
   "metadata": {},
   "outputs": [],
   "source": []
  }
 ],
 "metadata": {
  "kernelspec": {
   "display_name": "Python 3 (ipykernel)",
   "language": "python",
   "name": "python3"
  },
  "language_info": {
   "codemirror_mode": {
    "name": "ipython",
    "version": 3
   },
   "file_extension": ".py",
   "mimetype": "text/x-python",
   "name": "python",
   "nbconvert_exporter": "python",
   "pygments_lexer": "ipython3",
   "version": "3.12.7"
  }
 },
 "nbformat": 4,
 "nbformat_minor": 5
}
