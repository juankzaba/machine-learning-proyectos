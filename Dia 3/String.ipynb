{
 "cells": [
  {
   "cell_type": "code",
   "execution_count": 1,
   "id": "f27d037c-6e57-497c-9f4a-143db61f018e",
   "metadata": {},
   "outputs": [],
   "source": [
    "palabra = 'Manzana'"
   ]
  },
  {
   "cell_type": "code",
   "execution_count": 2,
   "id": "6edf5b38-01b4-4832-ab36-ae112b6582a7",
   "metadata": {},
   "outputs": [
    {
     "data": {
      "text/plain": [
       "str"
      ]
     },
     "execution_count": 2,
     "metadata": {},
     "output_type": "execute_result"
    }
   ],
   "source": [
    "type(palabra)"
   ]
  },
  {
   "cell_type": "code",
   "execution_count": 3,
   "id": "b29115f8-fa63-4080-a4e5-64ed34a84699",
   "metadata": {},
   "outputs": [
    {
     "data": {
      "text/plain": [
       "'Manzana'"
      ]
     },
     "execution_count": 3,
     "metadata": {},
     "output_type": "execute_result"
    }
   ],
   "source": [
    "palabra"
   ]
  },
  {
   "cell_type": "code",
   "execution_count": 4,
   "id": "12dd1564-60f8-423e-a536-69bcc11a293d",
   "metadata": {},
   "outputs": [
    {
     "data": {
      "text/plain": [
       "'MANZANA'"
      ]
     },
     "execution_count": 4,
     "metadata": {},
     "output_type": "execute_result"
    }
   ],
   "source": [
    "palabra.upper()"
   ]
  },
  {
   "cell_type": "code",
   "execution_count": 5,
   "id": "549bce46-e303-42af-a739-fdd801cd0d94",
   "metadata": {},
   "outputs": [
    {
     "data": {
      "text/plain": [
       "'Manzana'"
      ]
     },
     "execution_count": 5,
     "metadata": {},
     "output_type": "execute_result"
    }
   ],
   "source": [
    "palabra"
   ]
  },
  {
   "cell_type": "code",
   "execution_count": 6,
   "id": "e6159141-d748-4ffc-bf96-1f42fbf83756",
   "metadata": {},
   "outputs": [],
   "source": [
    "palabraMayus = palabra.upper()"
   ]
  },
  {
   "cell_type": "code",
   "execution_count": 7,
   "id": "29431ad4-9765-4557-88b4-9e7cb077841b",
   "metadata": {},
   "outputs": [
    {
     "data": {
      "text/plain": [
       "'MANZANA'"
      ]
     },
     "execution_count": 7,
     "metadata": {},
     "output_type": "execute_result"
    }
   ],
   "source": [
    "palabraMayus"
   ]
  },
  {
   "cell_type": "code",
   "execution_count": 8,
   "id": "3f00ffe3-01e2-44d7-ad2d-bfa63a58c5a2",
   "metadata": {},
   "outputs": [
    {
     "data": {
      "text/plain": [
       "['__add__',\n",
       " '__class__',\n",
       " '__contains__',\n",
       " '__delattr__',\n",
       " '__dir__',\n",
       " '__doc__',\n",
       " '__eq__',\n",
       " '__format__',\n",
       " '__ge__',\n",
       " '__getattribute__',\n",
       " '__getitem__',\n",
       " '__getnewargs__',\n",
       " '__getstate__',\n",
       " '__gt__',\n",
       " '__hash__',\n",
       " '__init__',\n",
       " '__init_subclass__',\n",
       " '__iter__',\n",
       " '__le__',\n",
       " '__len__',\n",
       " '__lt__',\n",
       " '__mod__',\n",
       " '__mul__',\n",
       " '__ne__',\n",
       " '__new__',\n",
       " '__reduce__',\n",
       " '__reduce_ex__',\n",
       " '__repr__',\n",
       " '__rmod__',\n",
       " '__rmul__',\n",
       " '__setattr__',\n",
       " '__sizeof__',\n",
       " '__str__',\n",
       " '__subclasshook__',\n",
       " 'capitalize',\n",
       " 'casefold',\n",
       " 'center',\n",
       " 'count',\n",
       " 'encode',\n",
       " 'endswith',\n",
       " 'expandtabs',\n",
       " 'find',\n",
       " 'format',\n",
       " 'format_map',\n",
       " 'index',\n",
       " 'isalnum',\n",
       " 'isalpha',\n",
       " 'isascii',\n",
       " 'isdecimal',\n",
       " 'isdigit',\n",
       " 'isidentifier',\n",
       " 'islower',\n",
       " 'isnumeric',\n",
       " 'isprintable',\n",
       " 'isspace',\n",
       " 'istitle',\n",
       " 'isupper',\n",
       " 'join',\n",
       " 'ljust',\n",
       " 'lower',\n",
       " 'lstrip',\n",
       " 'maketrans',\n",
       " 'partition',\n",
       " 'removeprefix',\n",
       " 'removesuffix',\n",
       " 'replace',\n",
       " 'rfind',\n",
       " 'rindex',\n",
       " 'rjust',\n",
       " 'rpartition',\n",
       " 'rsplit',\n",
       " 'rstrip',\n",
       " 'split',\n",
       " 'splitlines',\n",
       " 'startswith',\n",
       " 'strip',\n",
       " 'swapcase',\n",
       " 'title',\n",
       " 'translate',\n",
       " 'upper',\n",
       " 'zfill']"
      ]
     },
     "execution_count": 8,
     "metadata": {},
     "output_type": "execute_result"
    }
   ],
   "source": [
    "dir(palabra)"
   ]
  },
  {
   "cell_type": "code",
   "execution_count": 9,
   "id": "e3d5b5c1-436a-42f3-b2df-e26e4e0fb216",
   "metadata": {},
   "outputs": [
    {
     "name": "stdout",
     "output_type": "stream",
     "text": [
      "Help on built-in function capitalize:\n",
      "\n",
      "capitalize() method of builtins.str instance\n",
      "    Return a capitalized version of the string.\n",
      "\n",
      "    More specifically, make the first character have upper case and the rest lower\n",
      "    case.\n",
      "\n"
     ]
    }
   ],
   "source": [
    "help(palabra.capitalize)"
   ]
  },
  {
   "cell_type": "code",
   "execution_count": 10,
   "id": "5517918c-2f9e-49f4-b5b8-20703532bfd9",
   "metadata": {},
   "outputs": [
    {
     "data": {
      "text/plain": [
       "'Manzana'"
      ]
     },
     "execution_count": 10,
     "metadata": {},
     "output_type": "execute_result"
    }
   ],
   "source": [
    "palabra.capitalize()"
   ]
  },
  {
   "cell_type": "code",
   "execution_count": 11,
   "id": "8439566b-8867-4246-92b7-c575fdb622be",
   "metadata": {},
   "outputs": [],
   "source": [
    "fruta = 'sandia'"
   ]
  },
  {
   "cell_type": "code",
   "execution_count": 12,
   "id": "f7d49d74-7639-4ccb-9095-3859be5cf66f",
   "metadata": {},
   "outputs": [
    {
     "data": {
      "text/plain": [
       "'Sandia'"
      ]
     },
     "execution_count": 12,
     "metadata": {},
     "output_type": "execute_result"
    }
   ],
   "source": [
    "fruta.capitalize()"
   ]
  },
  {
   "cell_type": "code",
   "execution_count": 14,
   "id": "bbe2fe1a-ea5b-4cf8-aadd-2f664320404e",
   "metadata": {},
   "outputs": [
    {
     "data": {
      "text/plain": [
       "'Sandia'"
      ]
     },
     "execution_count": 14,
     "metadata": {},
     "output_type": "execute_result"
    }
   ],
   "source": [
    "str.capitalize(fruta)#Otra forma de convertir la primera letra en mayúscula"
   ]
  },
  {
   "cell_type": "markdown",
   "id": "4ef7875e-480e-46bd-8d4f-cf787dff8393",
   "metadata": {},
   "source": [
    "# EJERCICIOS"
   ]
  },
  {
   "cell_type": "markdown",
   "id": "e556507a-8cbd-481e-adbb-97ece8d163d5",
   "metadata": {},
   "source": [
    "Escribir un programa que almacene en una variable palabra una palabra de tu elección completamente en minúscula y luego en otra variable palabra_mayus apliques un método de tu preferencia"
   ]
  },
  {
   "cell_type": "code",
   "execution_count": 15,
   "id": "893f663a-6940-4650-a8c1-62493d9e6d52",
   "metadata": {},
   "outputs": [],
   "source": [
    "palabra = 'python'\n",
    "palabra_mayus = palabra.upper()"
   ]
  },
  {
   "cell_type": "code",
   "execution_count": 16,
   "id": "2dd5ed0c-19fb-4b44-a847-734cb512f46f",
   "metadata": {},
   "outputs": [
    {
     "name": "stdout",
     "output_type": "stream",
     "text": [
      "PYTHON\n"
     ]
    }
   ],
   "source": [
    "print(palabra_mayus)"
   ]
  },
  {
   "cell_type": "markdown",
   "id": "d1751415-634a-45b2-bc80-2bc35e0b4753",
   "metadata": {},
   "source": [
    "2. Crear dos variables string1 y string2, luego almacena en ellas las palabras 'aprender' y 'python' respectivamente. Concatenar ambos string para formar la frase 'Aprender Python' y almacenarla en una variable resultado. Aplicar un método para convertir solo la primera palabra de cada letra en mayúscula. Imprimir el resultado"
   ]
  },
  {
   "cell_type": "code",
   "execution_count": 17,
   "id": "442b7978-ca64-4e73-a0f6-047272c546c7",
   "metadata": {},
   "outputs": [],
   "source": [
    "string1 = 'aprender'\n",
    "string2 = 'python'\n",
    "resultado = string1.capitalize() + \" \" + string2.capitalize()"
   ]
  },
  {
   "cell_type": "code",
   "execution_count": 18,
   "id": "e9e2b980-6484-4db9-af81-af401756709f",
   "metadata": {},
   "outputs": [
    {
     "name": "stdout",
     "output_type": "stream",
     "text": [
      "Aprender Python\n"
     ]
    }
   ],
   "source": [
    "print(resultado)"
   ]
  },
  {
   "cell_type": "markdown",
   "id": "3898bb20-024b-49fb-b97f-37f2b7ebbe66",
   "metadata": {},
   "source": [
    "3. Cree un programa que tome la frase \"Python es divertido\" y realice la siguiente operaciones. Remplazar la palabra \"divertido\" por \"genial\". Almacenar el resultado en una variable llamada frase_modificada. Imprimir el resultado."
   ]
  },
  {
   "cell_type": "code",
   "execution_count": 19,
   "id": "1a4e9c2e-959a-4867-8a46-b9320f5258c0",
   "metadata": {},
   "outputs": [],
   "source": [
    "frase = \"Python es divertido\"\n",
    "frase_modificada = frase.replace(\"divertido\",\"genial\")"
   ]
  },
  {
   "cell_type": "code",
   "execution_count": 20,
   "id": "b0079e7e-c694-4db3-8d94-2671b2d4fe49",
   "metadata": {},
   "outputs": [
    {
     "name": "stdout",
     "output_type": "stream",
     "text": [
      "Python es genial\n"
     ]
    }
   ],
   "source": [
    "print(frase_modificada)"
   ]
  },
  {
   "cell_type": "code",
   "execution_count": null,
   "id": "2a978f88-f38c-4016-9f77-7fa3c0098b26",
   "metadata": {},
   "outputs": [],
   "source": []
  }
 ],
 "metadata": {
  "kernelspec": {
   "display_name": "Python 3 (ipykernel)",
   "language": "python",
   "name": "python3"
  },
  "language_info": {
   "codemirror_mode": {
    "name": "ipython",
    "version": 3
   },
   "file_extension": ".py",
   "mimetype": "text/x-python",
   "name": "python",
   "nbconvert_exporter": "python",
   "pygments_lexer": "ipython3",
   "version": "3.12.7"
  }
 },
 "nbformat": 4,
 "nbformat_minor": 5
}
