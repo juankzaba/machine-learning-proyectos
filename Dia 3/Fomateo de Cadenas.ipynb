{
 "cells": [
  {
   "cell_type": "code",
   "execution_count": 2,
   "id": "05696448-8d8d-4dbf-8809-2c345fba5975",
   "metadata": {},
   "outputs": [
    {
     "data": {
      "text/plain": [
       "'Hola Luciana'"
      ]
     },
     "execution_count": 2,
     "metadata": {},
     "output_type": "execute_result"
    }
   ],
   "source": [
    "saludo = \"Hola\"\n",
    "nombre = \"Luciana\"\n",
    "frase = saludo + \" \" + nombre \n",
    "frase"
   ]
  },
  {
   "cell_type": "code",
   "execution_count": 3,
   "id": "53ba578b-faba-417f-a78b-88aeb18065de",
   "metadata": {},
   "outputs": [],
   "source": [
    "edad = 30"
   ]
  },
  {
   "cell_type": "code",
   "execution_count": 4,
   "id": "2f47d1af-06fe-4f1e-88ce-0b790d49c673",
   "metadata": {},
   "outputs": [
    {
     "data": {
      "text/plain": [
       "'Hola Luciana, tienes 30 años'"
      ]
     },
     "execution_count": 4,
     "metadata": {},
     "output_type": "execute_result"
    }
   ],
   "source": [
    "frase = saludo + \" \" + nombre + \", tienes \" + str(edad) + \" años\"\n",
    "frase"
   ]
  },
  {
   "cell_type": "code",
   "execution_count": 5,
   "id": "bbdc530f-6b06-4feb-a407-1423538573ca",
   "metadata": {},
   "outputs": [],
   "source": [
    "frase = \"Hola {}, tienes {} años\".format(nombre, edad)"
   ]
  },
  {
   "cell_type": "code",
   "execution_count": 6,
   "id": "e7c7509f-3bcd-48dd-9a74-93f4b54edf4e",
   "metadata": {},
   "outputs": [
    {
     "data": {
      "text/plain": [
       "'Hola Luciana, tienes 30 años'"
      ]
     },
     "execution_count": 6,
     "metadata": {},
     "output_type": "execute_result"
    }
   ],
   "source": [
    "frase"
   ]
  },
  {
   "cell_type": "code",
   "execution_count": 7,
   "id": "64374341-133f-426c-b8a3-98eca5e39c33",
   "metadata": {},
   "outputs": [
    {
     "data": {
      "text/plain": [
       "'Hola Luciana, tienes 30 años'"
      ]
     },
     "execution_count": 7,
     "metadata": {},
     "output_type": "execute_result"
    }
   ],
   "source": [
    "frase = f\"Hola {nombre}, tienes {edad} años\"\n",
    "frase"
   ]
  },
  {
   "cell_type": "markdown",
   "id": "49c5271d-ac6a-4b0b-a2c8-82a646a2cd8f",
   "metadata": {},
   "source": [
    "# EJERCICIOS"
   ]
  },
  {
   "cell_type": "markdown",
   "id": "ed2346de-ce82-40a3-8a2f-cc0035598195",
   "metadata": {},
   "source": [
    "1. Crea un programa que defina 3 variables: Producto, cantidad y precio. Imprime una frase que describa cuántas unidades del producto hay y cuál es su precio total."
   ]
  },
  {
   "cell_type": "code",
   "execution_count": 10,
   "id": "f8cfc188-89f2-4910-a88e-85be47c790fe",
   "metadata": {},
   "outputs": [],
   "source": [
    "producto = 'manzanas'\n",
    "cantidad = 10\n",
    "precio = 0.30\n",
    "precio = f\"Hay {cantidad} {producto} con un precio total de {cantidad * precio}\""
   ]
  },
  {
   "cell_type": "code",
   "execution_count": 11,
   "id": "30625782-85a2-41cd-84e0-da0cc56375cb",
   "metadata": {},
   "outputs": [
    {
     "data": {
      "text/plain": [
       "'Hay 10 manzanas con un precio total de 3.0'"
      ]
     },
     "execution_count": 11,
     "metadata": {},
     "output_type": "execute_result"
    }
   ],
   "source": [
    "precio"
   ]
  },
  {
   "cell_type": "markdown",
   "id": "2e6b9715-3b08-4f17-874f-e25e1915ca67",
   "metadata": {},
   "source": [
    "2. Define variables para almacenar un nombre y una actividad y la hora del día, para imprimir un mensaje que integre estas variables."
   ]
  },
  {
   "cell_type": "code",
   "execution_count": 12,
   "id": "1ebd254c-c1a6-467a-a787-45588db3c7c0",
   "metadata": {},
   "outputs": [],
   "source": [
    "nombre = 'Juan'\n",
    "actividad = 'montar bici'\n",
    "hora_dia = '7am'\n",
    "hora_dia = f\"{nombre} prefiere {actividad} a las {hora_dia}.\"\n"
   ]
  },
  {
   "cell_type": "code",
   "execution_count": 13,
   "id": "a2ce7108-e408-49b0-a18a-44fc2bd197c2",
   "metadata": {},
   "outputs": [
    {
     "data": {
      "text/plain": [
       "'Juan prefiere montar bici a las 7am.'"
      ]
     },
     "execution_count": 13,
     "metadata": {},
     "output_type": "execute_result"
    }
   ],
   "source": [
    "hora_dia"
   ]
  },
  {
   "cell_type": "code",
   "execution_count": null,
   "id": "6b057d6f-5acc-448e-a8ae-220f4cd8e140",
   "metadata": {},
   "outputs": [],
   "source": []
  }
 ],
 "metadata": {
  "kernelspec": {
   "display_name": "Python 3 (ipykernel)",
   "language": "python",
   "name": "python3"
  },
  "language_info": {
   "codemirror_mode": {
    "name": "ipython",
    "version": 3
   },
   "file_extension": ".py",
   "mimetype": "text/x-python",
   "name": "python",
   "nbconvert_exporter": "python",
   "pygments_lexer": "ipython3",
   "version": "3.12.7"
  }
 },
 "nbformat": 4,
 "nbformat_minor": 5
}
