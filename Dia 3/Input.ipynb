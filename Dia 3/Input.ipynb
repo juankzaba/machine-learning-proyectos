{
 "cells": [
  {
   "cell_type": "code",
   "execution_count": 1,
   "id": "143258a2-7c81-4781-b6bc-584f06746a8a",
   "metadata": {},
   "outputs": [
    {
     "name": "stdin",
     "output_type": "stream",
     "text": [
      "Por favor dime tu nombre:  Juan\n"
     ]
    },
    {
     "name": "stdout",
     "output_type": "stream",
     "text": [
      "Hola Juan!\n"
     ]
    }
   ],
   "source": [
    "nombre = input(\"Por favor dime tu nombre: \")\n",
    "print(\"Hola \"+ nombre + \"!\")"
   ]
  },
  {
   "cell_type": "code",
   "execution_count": 2,
   "id": "12e71c8d-d7bf-436c-8491-84e7205dc9b7",
   "metadata": {},
   "outputs": [
    {
     "name": "stdin",
     "output_type": "stream",
     "text": [
      "Dime tu edad:  40\n"
     ]
    }
   ],
   "source": [
    "edad = input(\"Dime tu edad: \")"
   ]
  },
  {
   "cell_type": "code",
   "execution_count": 3,
   "id": "cbbd9854-7e24-48c2-8937-d388fe74acf1",
   "metadata": {},
   "outputs": [
    {
     "data": {
      "text/plain": [
       "str"
      ]
     },
     "execution_count": 3,
     "metadata": {},
     "output_type": "execute_result"
    }
   ],
   "source": [
    "type(edad)"
   ]
  },
  {
   "cell_type": "code",
   "execution_count": 4,
   "id": "5771033f-76f5-479b-9bea-f1725c3831f2",
   "metadata": {},
   "outputs": [
    {
     "name": "stdin",
     "output_type": "stream",
     "text": [
      "Dime tu edad:  40\n"
     ]
    }
   ],
   "source": [
    "edad = int(input(\"Dime tu edad: \"))"
   ]
  },
  {
   "cell_type": "code",
   "execution_count": 5,
   "id": "67e134cb-d753-425a-938f-b1bd72e112c2",
   "metadata": {},
   "outputs": [
    {
     "data": {
      "text/plain": [
       "int"
      ]
     },
     "execution_count": 5,
     "metadata": {},
     "output_type": "execute_result"
    }
   ],
   "source": [
    "type(edad)\n"
   ]
  },
  {
   "cell_type": "code",
   "execution_count": 7,
   "id": "ab117cdb-9bac-4257-a9b8-8c59bb3a263e",
   "metadata": {},
   "outputs": [
    {
     "name": "stdin",
     "output_type": "stream",
     "text": [
      "Dime el primer número:  8\n",
      "Dime el segundo número:  8\n"
     ]
    },
    {
     "name": "stdout",
     "output_type": "stream",
     "text": [
      "La suma es: 16\n"
     ]
    }
   ],
   "source": [
    "a = int(input(\"Dime el primer número: \"))\n",
    "b = int(input(\"Dime el segundo número: \"))\n",
    "suma = a + b\n",
    "print(\"La suma es: \"+ str(suma))"
   ]
  },
  {
   "cell_type": "markdown",
   "id": "686f3666-c6e3-4605-ab2d-510accdec623",
   "metadata": {},
   "source": [
    "# EJERCICIOS"
   ]
  },
  {
   "cell_type": "markdown",
   "id": "eb29a42c-a540-461e-a41a-2e505370dd99",
   "metadata": {},
   "source": [
    "1. Escriba un programa que pida al usuario su nombre"
   ]
  },
  {
   "cell_type": "code",
   "execution_count": 9,
   "id": "4ae5ee77-5609-4137-a56b-af95b3976d97",
   "metadata": {},
   "outputs": [
    {
     "name": "stdin",
     "output_type": "stream",
     "text": [
      "Por favor dime tu nombre:  Karen\n"
     ]
    }
   ],
   "source": [
    "nombre = input(\"Por favor dime tu nombre: \")"
   ]
  },
  {
   "cell_type": "markdown",
   "id": "0a853933-5385-44f7-afa7-136f2587250d",
   "metadata": {},
   "source": [
    "2. Escribe un programa que solicite al usuario su año de nacimiento y almacenala en una variable llamada nacimiento, suma 1 al año de nacimiento y muestra el resultado."
   ]
  },
  {
   "cell_type": "code",
   "execution_count": 10,
   "id": "be71c3b9-544b-4e88-b63b-3cbd03d80466",
   "metadata": {},
   "outputs": [
    {
     "name": "stdin",
     "output_type": "stream",
     "text": [
      "En qué año naciste? 1984\n"
     ]
    },
    {
     "name": "stdout",
     "output_type": "stream",
     "text": [
      "1985\n"
     ]
    }
   ],
   "source": [
    "nacimiento = input(\"En qué año naciste?\")\n",
    "nacimiento = int(nacimiento)\n",
    "nacimiento += 1\n",
    "print(nacimiento)\n",
    "\n",
    "                   "
   ]
  },
  {
   "cell_type": "markdown",
   "id": "29cbf6bd-37b2-4c05-aebe-fcc21bd50172",
   "metadata": {},
   "source": [
    "3. Desarrolla un programa que le pregunte al usuario la cantidad de kilometros que desea convertir a millas considera que 1 kilometro equivale a .621371. Finalmente imprime el resultado."
   ]
  },
  {
   "cell_type": "code",
   "execution_count": 11,
   "id": "3844e9d8-1732-4424-b76b-0d36ec192108",
   "metadata": {},
   "outputs": [
    {
     "name": "stdin",
     "output_type": "stream",
     "text": [
      "Introduce la cantidad de kilómetros recorridos:  4\n"
     ]
    },
    {
     "name": "stdout",
     "output_type": "stream",
     "text": [
      "2.485484\n"
     ]
    }
   ],
   "source": [
    "km = float(input(\"Introduce la cantidad de kilómetros recorridos: \"))\n",
    "millas = km * 0.621371\n",
    "print(millas)"
   ]
  },
  {
   "cell_type": "code",
   "execution_count": null,
   "id": "c5eea84e-7750-46b0-a851-0bb40df695cc",
   "metadata": {},
   "outputs": [],
   "source": []
  }
 ],
 "metadata": {
  "kernelspec": {
   "display_name": "Python 3 (ipykernel)",
   "language": "python",
   "name": "python3"
  },
  "language_info": {
   "codemirror_mode": {
    "name": "ipython",
    "version": 3
   },
   "file_extension": ".py",
   "mimetype": "text/x-python",
   "name": "python",
   "nbconvert_exporter": "python",
   "pygments_lexer": "ipython3",
   "version": "3.12.7"
  }
 },
 "nbformat": 4,
 "nbformat_minor": 5
}
