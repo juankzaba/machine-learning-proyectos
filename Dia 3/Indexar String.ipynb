{
 "cells": [
  {
   "cell_type": "code",
   "execution_count": 1,
   "id": "bfa46b50-5465-4feb-b2bd-62e04fc1088d",
   "metadata": {},
   "outputs": [],
   "source": [
    "palabra = 'ciruela'"
   ]
  },
  {
   "cell_type": "code",
   "execution_count": 2,
   "id": "5285a310-cf7f-479b-aa55-2f8990e6f184",
   "metadata": {},
   "outputs": [
    {
     "data": {
      "text/plain": [
       "'c'"
      ]
     },
     "execution_count": 2,
     "metadata": {},
     "output_type": "execute_result"
    }
   ],
   "source": [
    "palabra[0]"
   ]
  },
  {
   "cell_type": "code",
   "execution_count": 3,
   "id": "b1e597d7-99f9-4ba3-8c0e-480ebf4425c9",
   "metadata": {},
   "outputs": [
    {
     "data": {
      "text/plain": [
       "'i'"
      ]
     },
     "execution_count": 3,
     "metadata": {},
     "output_type": "execute_result"
    }
   ],
   "source": [
    "palabra[1]"
   ]
  },
  {
   "cell_type": "code",
   "execution_count": 4,
   "id": "04913955-b02e-4b1e-b948-7b99189b43e9",
   "metadata": {},
   "outputs": [
    {
     "data": {
      "text/plain": [
       "'a'"
      ]
     },
     "execution_count": 4,
     "metadata": {},
     "output_type": "execute_result"
    }
   ],
   "source": [
    "palabra[-1]"
   ]
  },
  {
   "cell_type": "code",
   "execution_count": 5,
   "id": "20408a86-bee1-489d-9bb4-aba4500aad46",
   "metadata": {},
   "outputs": [
    {
     "data": {
      "text/plain": [
       "'l'"
      ]
     },
     "execution_count": 5,
     "metadata": {},
     "output_type": "execute_result"
    }
   ],
   "source": [
    "palabra[-2]"
   ]
  },
  {
   "cell_type": "code",
   "execution_count": 6,
   "id": "aabe542b-8949-4f96-88b1-cb30bd327747",
   "metadata": {},
   "outputs": [
    {
     "data": {
      "text/plain": [
       "'ciru'"
      ]
     },
     "execution_count": 6,
     "metadata": {},
     "output_type": "execute_result"
    }
   ],
   "source": [
    "palabra[0:4]"
   ]
  },
  {
   "cell_type": "code",
   "execution_count": 7,
   "id": "240b7ce3-2aff-4cf0-beae-0c240491d63f",
   "metadata": {},
   "outputs": [
    {
     "data": {
      "text/plain": [
       "'ciru'"
      ]
     },
     "execution_count": 7,
     "metadata": {},
     "output_type": "execute_result"
    }
   ],
   "source": [
    "palabra[:4]"
   ]
  },
  {
   "cell_type": "code",
   "execution_count": 8,
   "id": "ee05ffee-00fc-4ce2-8fe4-2fd11fbb7548",
   "metadata": {},
   "outputs": [
    {
     "data": {
      "text/plain": [
       "'ela'"
      ]
     },
     "execution_count": 8,
     "metadata": {},
     "output_type": "execute_result"
    }
   ],
   "source": [
    "palabra[4:7]"
   ]
  },
  {
   "cell_type": "code",
   "execution_count": 9,
   "id": "89ca2225-c1e4-44c9-b07c-3ab13ee0d7f1",
   "metadata": {},
   "outputs": [
    {
     "data": {
      "text/plain": [
       "'ela'"
      ]
     },
     "execution_count": 9,
     "metadata": {},
     "output_type": "execute_result"
    }
   ],
   "source": [
    "palabra[4:]"
   ]
  },
  {
   "cell_type": "code",
   "execution_count": 10,
   "id": "022ea912-f6d8-436b-b638-93a9b6ed0c0d",
   "metadata": {},
   "outputs": [
    {
     "data": {
      "text/plain": [
       "'cre'"
      ]
     },
     "execution_count": 10,
     "metadata": {},
     "output_type": "execute_result"
    }
   ],
   "source": [
    "palabra[0:5:2]"
   ]
  },
  {
   "cell_type": "code",
   "execution_count": 11,
   "id": "e664e8f4-3c4b-4d3b-96eb-c501b7759ccd",
   "metadata": {},
   "outputs": [
    {
     "data": {
      "text/plain": [
       "'cua'"
      ]
     },
     "execution_count": 11,
     "metadata": {},
     "output_type": "execute_result"
    }
   ],
   "source": [
    "palabra[::3]"
   ]
  },
  {
   "cell_type": "code",
   "execution_count": 12,
   "id": "0a27e631-2190-4103-a26b-100cbb99ce87",
   "metadata": {},
   "outputs": [
    {
     "data": {
      "text/plain": [
       "'CIRU'"
      ]
     },
     "execution_count": 12,
     "metadata": {},
     "output_type": "execute_result"
    }
   ],
   "source": [
    "palabra[0:4].upper()"
   ]
  },
  {
   "cell_type": "markdown",
   "id": "52e065e9-eadf-4cf5-bff0-412a6e9b46e4",
   "metadata": {},
   "source": [
    "# EJERCICIOS"
   ]
  },
  {
   "cell_type": "markdown",
   "id": "cd8f9cff-f8ea-4fc4-b2d1-811806a1fc34",
   "metadata": {},
   "source": [
    "1. Declara una variable llamada palabra en ella almacena el valor 'computadora', escribe un código que imprima el quinto caracter (u) de esta palabra"
   ]
  },
  {
   "cell_type": "code",
   "execution_count": 13,
   "id": "cb7df2f7-c2eb-4943-8c37-a23df5c5522c",
   "metadata": {},
   "outputs": [],
   "source": [
    "palabra = 'computadora'"
   ]
  },
  {
   "cell_type": "code",
   "execution_count": 14,
   "id": "3c720c57-20b3-427f-a431-76d8566ee71c",
   "metadata": {},
   "outputs": [
    {
     "name": "stdout",
     "output_type": "stream",
     "text": [
      "u\n"
     ]
    }
   ],
   "source": [
    "print(palabra[4])"
   ]
  },
  {
   "cell_type": "markdown",
   "id": "79d81ce4-8679-47a7-a869-ee12aae215f2",
   "metadata": {},
   "source": [
    "2. Utiliza la misma palabra y crea un código que extraiga e imprima la subcadena \"tado\""
   ]
  },
  {
   "cell_type": "code",
   "execution_count": 15,
   "id": "b030e0f6-04cc-4c89-9e66-6eadb80669d9",
   "metadata": {},
   "outputs": [],
   "source": [
    "palabra = 'computadora'"
   ]
  },
  {
   "cell_type": "code",
   "execution_count": 16,
   "id": "50e4867a-809b-4b78-b19f-8ca0394e98b0",
   "metadata": {},
   "outputs": [
    {
     "name": "stdout",
     "output_type": "stream",
     "text": [
      "tado\n"
     ]
    }
   ],
   "source": [
    "print(palabra[5:9])"
   ]
  },
  {
   "cell_type": "markdown",
   "id": "de6c9e53-5024-4a1e-9f94-a5d57df33d41",
   "metadata": {},
   "source": [
    "3. Toma la palabra \"aventura\" y escribe un código que extraiga la subcadena \"vnu\" la convierta a mayuscula y la imprima."
   ]
  },
  {
   "cell_type": "code",
   "execution_count": 17,
   "id": "e2e46c9f-b343-4fca-bb76-9cefbee99efa",
   "metadata": {},
   "outputs": [],
   "source": [
    "palabra = \"aventura\"\n",
    "substring = palabra[1:6:2]\n",
    "uppercase_substring = substring.upper()"
   ]
  },
  {
   "cell_type": "code",
   "execution_count": 18,
   "id": "f5bbc531-5873-49fc-8f00-fd85ff1a7960",
   "metadata": {},
   "outputs": [
    {
     "name": "stdout",
     "output_type": "stream",
     "text": [
      "VNU\n"
     ]
    }
   ],
   "source": [
    "print(uppercase_substring)"
   ]
  },
  {
   "cell_type": "code",
   "execution_count": null,
   "id": "a56a7c01-fb7b-4a65-9d1d-e7c002bf97e5",
   "metadata": {},
   "outputs": [],
   "source": []
  }
 ],
 "metadata": {
  "kernelspec": {
   "display_name": "Python 3 (ipykernel)",
   "language": "python",
   "name": "python3"
  },
  "language_info": {
   "codemirror_mode": {
    "name": "ipython",
    "version": 3
   },
   "file_extension": ".py",
   "mimetype": "text/x-python",
   "name": "python",
   "nbconvert_exporter": "python",
   "pygments_lexer": "ipython3",
   "version": "3.12.7"
  }
 },
 "nbformat": 4,
 "nbformat_minor": 5
}
